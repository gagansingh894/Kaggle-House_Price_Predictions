{
 "cells": [
  {
   "cell_type": "code",
   "execution_count": 30,
   "metadata": {},
   "outputs": [],
   "source": [
    "import pandas as pd\n",
    "import numpy as np\n",
    "import matplotlib.pyplot as plt\n",
    "import seaborn as sns\n",
    "\n",
    "path_to_folder = r'D:\\Work\\Kaggle\\house-prices-advanced-regression-techniques'\n",
    "\n",
    "\n",
    "train_df = pd.read_csv(path_to_folder + r'\\train.csv')\n",
    "X_test = pd.read_csv(path_to_folder + r'\\test.csv')\n",
    "X_train = train_df #.iloc[:,:-1]\n",
    "\n",
    "#drop columns\n",
    "X_train.drop(['Id', 'SaleType'], inplace=True, axis=1)\n",
    "X_test.drop(['Id', 'SaleType'], inplace=True, axis=1)"
   ]
  },
  {
   "cell_type": "code",
   "execution_count": 31,
   "metadata": {},
   "outputs": [
    {
     "data": {
      "text/plain": [
       "(2917, 78)"
      ]
     },
     "execution_count": 31,
     "metadata": {},
     "output_type": "execute_result"
    },
    {
     "data": {
      "image/png": "[encoded data removed]",
      "text/plain": [
       "<Figure size 432x288 with 1 Axes>"
      ]
     },
     "metadata": {
      "needs_background": "light"
     },
     "output_type": "display_data"
    }
   ],
   "source": [
    "#PLOT DATA\n",
    "#plt.scatter(X_train['GrLivArea'],X_train['SalePrice'])\n",
    "#remove outlier\n",
    "plt.scatter(X_train['GrLivArea'],X_train['SalePrice'], c='red') # outliers marked in red\n",
    "X_train = X_train.drop(X_train[(X_train['GrLivArea'] > 4000) & (X_train['SalePrice'] < 200000)].index)\n",
    "X_train.shape\n",
    "plt.scatter(X_train['GrLivArea'],X_train['SalePrice'], c='blue')\n",
    "#plt.hist(X_train['SalePrice'])\n",
    "X_train['SalePrice'] = np.log1p(X_train['SalePrice'])\n",
    "y_train = X_train['SalePrice']\n",
    "X_train.drop(['SalePrice'], inplace=True, axis=1)\n",
    "X_train.shape\n",
    "\n",
    "#Combine Train Test\n",
    "combine_df = pd.concat([X_train, X_test])\n",
    "combine_df.shape"
   ]
  },
  {
   "cell_type": "code",
   "execution_count": 32,
   "metadata": {},
   "outputs": [],
   "source": [
    "#MISSING VALUE TREATMENT\n",
    "missing_values_nc_cols = ['GarageCond', 'GarageType', 'GarageQual', 'GarageFinish', 'Alley','Fence', 'PoolQC',\n",
    "                           'BsmtQual', 'BsmtCond', 'BsmtExposure', 'BsmtFinType1', 'BsmtFinType2', 'MiscFeature',\n",
    "                           'FireplaceQu', 'MasVnrType']\n",
    "missing_values_cont_cols = ['MasVnrArea', 'LotFrontage', 'GarageYrBlt']\n",
    "\n",
    "for colname in missing_values_nc_cols:\n",
    "    combine_df[colname].fillna('None', inplace=True)\n",
    "    combine_df[colname].fillna('None', inplace=True)\n",
    "\n",
    "for colname in missing_values_cont_cols:\n",
    "    combine_df[colname].fillna(combine_df[colname].median(), inplace=True)\n",
    "    combine_df[colname].fillna(combine_df[colname].median(), inplace=True)\n",
    "\n",
    "combine_df['Electrical'].fillna(str(combine_df['Electrical'].mode()[0]), inplace=True)\n",
    "combine_df['MSZoning'].fillna(str(combine_df['MSZoning'].mode()[0]), inplace=True)\n",
    "combine_df['Utilities'].fillna(str(combine_df['Utilities'].mode()[0]), inplace=True)\n",
    "combine_df['BsmtFullBath'].fillna(int(combine_df['BsmtFullBath'].min()), inplace=True)\n",
    "combine_df['BsmtHalfBath'].fillna(int(combine_df['BsmtHalfBath'].min()), inplace=True)\n",
    "combine_df['BsmtFinSF1'].fillna(int(combine_df['BsmtFinSF1'].min()), inplace=True)\n",
    "combine_df['BsmtFinSF2'].fillna(int(combine_df['BsmtFinSF2'].min()), inplace=True)\n",
    "combine_df['BsmtUnfSF'].fillna(int(combine_df['BsmtUnfSF'].min()), inplace=True)\n",
    "combine_df['TotalBsmtSF'].fillna(int(combine_df['TotalBsmtSF'].min()), inplace=True)\n",
    "combine_df['Exterior1st'].fillna(str(combine_df['Exterior1st'].mode()[0]), inplace=True)\n",
    "combine_df['Exterior2nd'].fillna(str(combine_df['Exterior1st'].mode()[0]), inplace=True) #not a typo\n",
    "combine_df['Functional'].fillna(str(combine_df['Functional'].mode()[0]), inplace=True)\n",
    "combine_df['KitchenQual'].fillna(str(combine_df['KitchenQual'].mode()[0]), inplace=True)\n",
    "combine_df['GarageCars'].fillna(int(combine_df['GarageCars'].min()), inplace=True)\n",
    "combine_df['GarageArea'].fillna(int(combine_df['GarageArea'].min()), inplace=True)\n",
    "#combine_df['SaleType'].fillna(str(combine_df['SaleType'].mode()[0]), inplace=True)"
   ]
  },
  {
   "cell_type": "code",
   "execution_count": 33,
   "metadata": {},
   "outputs": [],
   "source": [
    "#Data Analysis and Transformation\n",
    "#create a new column which contains the total area of the house\n",
    "combine_df['TotalHouseArea'] = combine_df['TotalBsmtSF'] + combine_df['1stFlrSF'] + combine_df['2ndFlrSF']\n",
    "combine_df.drop(['TotalBsmtSF', '1stFlrSF', '2ndFlrSF'], inplace=True, axis=1)\n",
    "\n",
    "combine_df['MSSubClass'] = combine_df['MSSubClass'].astype(str)\n",
    "combine_df['OverallCond'] = combine_df['OverallCond'].astype(str)\n",
    "combine_df['GarageYrBlt'] = combine_df['GarageYrBlt'].astype(str)\n",
    "\n",
    "combine_df['MoSold'] = combine_df['MoSold'].astype(str)\n",
    "combine_df['YrSold'] = combine_df['YrSold'].astype(str)\n",
    "\n",
    "from scipy import stats\n",
    "from scipy.stats import norm, skew #for some statistics\n",
    "numeric_feats = combine_df.dtypes[combine_df.dtypes != \"object\"].index\n",
    "skewed_feats = combine_df[numeric_feats].apply(lambda x: skew(x.dropna())).sort_values(ascending=False)\n",
    "skd_df = pd.DataFrame({'skewval':skewed_feats})\n",
    "\n",
    "#get all features with skewness greater than 0.75\n",
    "skd_df = skd_df[abs(skd_df) > 0.75]\n",
    "from scipy.special import boxcox1p\n",
    "skewed_feat = skd_df.index\n",
    "lam = 0.15\n",
    "for feat in skewed_feat:\n",
    "    #all_data[feat] += 1\n",
    "    combine_df[feat] = boxcox1p(combine_df[feat], lam)\n",
    "\n",
    "combine_df = pd.get_dummies(combine_df)\n",
    "combine_df.shape\n",
    "\n",
    "X_train = combine_df.iloc[0:1458,:].values\n",
    "X_test = combine_df.iloc[1458:,:].values\n",
    "y_train = y_train.values"
   ]
  },
  {
   "cell_type": "markdown",
   "metadata": {},
   "source": [
    "## Modeling"
   ]
  },
  {
   "cell_type": "code",
   "execution_count": 60,
   "metadata": {},
   "outputs": [],
   "source": [
    "#Import models\n",
    "from sklearn.linear_model import LinearRegression, Lasso, RidgeCV, ElasticNet, BayesianRidge, LassoLars\n",
    "from sklearn.tree import DecisionTreeRegressor\n",
    "from sklearn.ensemble import RandomForestRegressor, StackingRegressor\n",
    "import xgboost as xgb\n",
    "import lightgbm as lgb\n",
    "from sklearn.model_selection import KFold, cross_val_score\n",
    "\n",
    "\n",
    "#Validation function\n",
    "n_folds = 5\n",
    "def rmsle_cv(model):\n",
    "    kf = KFold(n_folds, shuffle=True, random_state=42).get_n_splits(X_train)\n",
    "    rmse= np.sqrt(-cross_val_score(model, X_train, y_train, scoring=\"neg_mean_squared_error\", cv = kf))\n",
    "    return rmse"
   ]
  },
  {
   "cell_type": "code",
   "execution_count": 69,
   "metadata": {},
   "outputs": [
    {
     "name": "stdout",
     "output_type": "stream",
     "text": [
      "185288876.49480337\n",
      "0.3994682097577765\n",
      "0.12327998154020312\n",
      "0.3769456866311338\n",
      "0.11635469234753167\n",
      "0.3994682097577765\n"
     ]
    }
   ],
   "source": [
    "#Linear Models\n",
    "lmlist = [LinearRegression(), Lasso(), RidgeCV(), ElasticNet(alpha=0.0005, l1_ratio=.9, random_state=3), BayesianRidge(), LassoLars()]\n",
    "for m in mlist:\n",
    "    score = rmsle_cv(m)\n",
    "    #.fit(X_train, y_train)\n",
    "    #core = m.score(X_train, y_train)\n",
    "    print(score.mean())"
   ]
  },
  {
   "cell_type": "code",
   "execution_count": 53,
   "metadata": {},
   "outputs": [
    {
     "name": "stdout",
     "output_type": "stream",
     "text": [
      "0.20046844771716654\n"
     ]
    }
   ],
   "source": [
    "dtreg = DecisionTreeRegressor()\n",
    "dtregscore = rmsle_cv(reg)\n",
    "print(dtregscore.mean())"
   ]
  },
  {
   "cell_type": "code",
   "execution_count": 55,
   "metadata": {},
   "outputs": [
    {
     "name": "stdout",
     "output_type": "stream",
     "text": [
      "0.13976626337095524\n"
     ]
    }
   ],
   "source": [
    "rfreg = RandomForestRegressor()\n",
    "rfscore = rmsle_cv(rfreg)\n",
    "print(rfscore.mean())"
   ]
  },
  {
   "cell_type": "code",
   "execution_count": 68,
   "metadata": {},
   "outputs": [
    {
     "name": "stdout",
     "output_type": "stream",
     "text": [
      "0.11768249459661448\n"
     ]
    }
   ],
   "source": [
    "xgreg = xgb.XGBRegressor(colsample_bytree=0.4603, gamma=0.0468, \n",
    "                             learning_rate=0.05, max_depth=3, \n",
    "                             min_child_weight=1.7817, n_estimators=2200,\n",
    "                             reg_alpha=0.4640, reg_lambda=0.8571,\n",
    "                             subsample=0.5213, silent=1,\n",
    "                             random_state =7, nthread = -1)\n",
    "xgscore = rmsle_cv(xgreg)\n",
    "print(xgscore.mean())"
   ]
  },
  {
   "cell_type": "code",
   "execution_count": 67,
   "metadata": {},
   "outputs": [
    {
     "name": "stdout",
     "output_type": "stream",
     "text": [
      "0.11657739862681257\n"
     ]
    }
   ],
   "source": [
    "lgbreg = lgb.LGBMRegressor(objective='regression',num_leaves=5,\n",
    "                              learning_rate=0.05, n_estimators=720,\n",
    "                              max_bin = 55, bagging_fraction = 0.8,\n",
    "                              bagging_freq = 5, feature_fraction = 0.2319,\n",
    "                              feature_fraction_seed=9, bagging_seed=9,\n",
    "                              min_data_in_leaf =6, min_sum_hessian_in_leaf = 11)\n",
    "lgbscore = rmsle_cv(lgbreg)\n",
    "print(lgbscore.mean())"
   ]
  },
  {
   "cell_type": "code",
   "execution_count": 83,
   "metadata": {},
   "outputs": [],
   "source": [
    "estimators = [('br',BayesianRidge()),('lgr',lgb.LGBMRegressor(objective='regression',num_leaves=5,\n",
    "                              learning_rate=0.05, n_estimators=720,\n",
    "                              max_bin = 55, bagging_fraction = 0.8,\n",
    "                              bagging_freq = 5, feature_fraction = 0.2319,\n",
    "                              feature_fraction_seed=9, bagging_seed=9,\n",
    "                              min_data_in_leaf =6, min_sum_hessian_in_leaf = 11)),\n",
    "              ('xgr',xgb.XGBRegressor(colsample_bytree=0.4603, gamma=0.0468, \n",
    "                             learning_rate=0.05, max_depth=3, \n",
    "                             min_child_weight=1.7817, n_estimators=2200,\n",
    "                             reg_alpha=0.4640, reg_lambda=0.8571,\n",
    "                             subsample=0.5213, silent=1,\n",
    "                             random_state =7, nthread = -1))]\n",
    "stackreg = StackingRegressor(estimators = estimators, final_estimator=BayesianRidge())\n",
    "score = rmsle_cv(stackreg)\n",
    "score.mean()"
   ]
  },
  {
   "cell_type": "code",
   "execution_count": 66,
   "metadata": {},
   "outputs": [
    {
     "name": "stdout",
     "output_type": "stream",
     "text": [
      "[04:16:29] WARNING: C:/Jenkins/workspace/xgboost-win64_release_0.90/src/objective/regression_obj.cu:152: reg:linear is now deprecated in favor of reg:squarederror.\n"
     ]
    },
    {
     "data": {
      "text/plain": [
       "XGBRegressor(base_score=0.5, booster='gbtree', colsample_bylevel=1,\n",
       "             colsample_bynode=1, colsample_bytree=1, gamma=0,\n",
       "             importance_type='gain', learning_rate=0.1, max_delta_step=0,\n",
       "             max_depth=3, min_child_weight=1, missing=None, n_estimators=100,\n",
       "             n_jobs=1, nthread=None, objective='reg:linear', random_state=0,\n",
       "             reg_alpha=0, reg_lambda=1, scale_pos_weight=1, seed=None,\n",
       "             silent=None, subsample=1, verbosity=1)"
      ]
     },
     "execution_count": 66,
     "metadata": {},
     "output_type": "execute_result"
    }
   ],
   "source": [
    "xgreg.fit(X_train, y_train)\n",
    "x = xgreg.predict(X_train, y_train)"
   ]
  },
  {
   "cell_type": "code",
   "execution_count": 72,
   "metadata": {},
   "outputs": [],
   "source": [
    "def rmsle(y, y_pred):\n",
    "    return np.sqrt(mean_squared_error(y, y_pred))"
   ]
  },
  {
   "cell_type": "code",
   "execution_count": 84,
   "metadata": {
    "collapsed": true
   },
   "outputs": [
    {
     "data": {
      "text/plain": [
       "StackingRegressor(cv=None,\n",
       "                  estimators=[('br',\n",
       "                               BayesianRidge(alpha_1=1e-06, alpha_2=1e-06,\n",
       "                                             alpha_init=None,\n",
       "                                             compute_score=False, copy_X=True,\n",
       "                                             fit_intercept=True, lambda_1=1e-06,\n",
       "                                             lambda_2=1e-06, lambda_init=None,\n",
       "                                             n_iter=300, normalize=False,\n",
       "                                             tol=0.001, verbose=False)),\n",
       "                              ('lgr',\n",
       "                               LGBMRegressor(bagging_fraction=0.8,\n",
       "                                             bagging_freq=5, bagging_seed=9,\n",
       "                                             boosting_type='gbdt',\n",
       "                                             clas...\n",
       "                                            reg_lambda=0.8571,\n",
       "                                            scale_pos_weight=1, seed=None,\n",
       "                                            silent=1, subsample=0.5213,\n",
       "                                            verbosity=1))],\n",
       "                  final_estimator=BayesianRidge(alpha_1=1e-06, alpha_2=1e-06,\n",
       "                                                alpha_init=None,\n",
       "                                                compute_score=False,\n",
       "                                                copy_X=True, fit_intercept=True,\n",
       "                                                lambda_1=1e-06, lambda_2=1e-06,\n",
       "                                                lambda_init=None, n_iter=300,\n",
       "                                                normalize=False, tol=0.001,\n",
       "                                                verbose=False),\n",
       "                  n_jobs=None, passthrough=False, verbose=0)"
      ]
     },
     "execution_count": 84,
     "metadata": {},
     "output_type": "execute_result"
    }
   ],
   "source": [
    "stackreg.fit(X_train, y_train)"
   ]
  },
  {
   "cell_type": "code",
   "execution_count": 87,
   "metadata": {},
   "outputs": [
    {
     "data": {
      "text/plain": [
       "array([125822.66, 161735.83, 184760.75, ..., 163939.9 , 117117.7 ,\n",
       "       220205.6 ], dtype=float32)"
      ]
     },
     "execution_count": 87,
     "metadata": {},
     "output_type": "execute_result"
    }
   ],
   "source": [
    "predictions = np.expm1(stackreg.predict(X_test))\n",
    "predictions"
   ]
  },
  {
   "cell_type": "code",
   "execution_count": 88,
   "metadata": {},
   "outputs": [],
   "source": [
    "\n",
    "sample_df = pd.read_csv(path_to_folder + r'\\sample_submission.csv')\n",
    "sample_df['SalePrice'] = predictions\n",
    "sample_df.to_csv(path_to_folder + r'/Predictions/' + 'Results_stacking_2.csv', index=False)"
   ]
  },
  {
   "cell_type": "code",
   "execution_count": null,
   "metadata": {},
   "outputs": [],
   "source": []
  }
 ],
 "metadata": {
  "kernelspec": {
   "display_name": "Python 3",
   "language": "python",
   "name": "python3"
  },
  "language_info": {
   "codemirror_mode": {
    "name": "ipython",
    "version": 3
   },
   "file_extension": ".py",
   "mimetype": "text/x-python",
   "name": "python",
   "nbconvert_exporter": "python",
   "pygments_lexer": "ipython3",
   "version": "3.7.3"
  }
 },
 "nbformat": 4,
 "nbformat_minor": 4
}
